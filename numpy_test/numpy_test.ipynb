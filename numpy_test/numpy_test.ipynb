{
 "cells": [
  {
   "cell_type": "markdown",
   "metadata": {},
   "source": [
    "{\\displaystyle s={\\sqrt {\\frac {\\Sigma (x-{\\overline {x}})^{2}}{n-1}}}}"
   ]
  },
  {
   "cell_type": "code",
   "execution_count": 1,
   "metadata": {},
   "outputs": [
    {
     "name": "stdout",
     "output_type": "stream",
     "text": [
      "Enter a number (<Enter key> to quit)1\n",
      "Enter a number (<Enter key> to quit)2\n",
      "Enter a number (<Enter key> to quit)3\n",
      "Enter a number (<Enter key> to quit)4\n",
      "Enter a number (<Enter key> to quit)5\n",
      "Enter a number (<Enter key> to quit)\n",
      "X : [1.0, 2.0, 3.0, 4.0, 5.0]\n"
     ]
    }
   ],
   "source": [
    "# 2개 이상의 숫자를 입력받아 리스트에 저장하는 함수\n",
    "def numbers():\n",
    "    X=[]    # X에 빈 리스트를 할당합니다.\n",
    "    while True:\n",
    "        number = input(\"Enter a number (<Enter key> to quit)\") \n",
    "        while number !=\"\":\n",
    "            try:\n",
    "                x = float(number)\n",
    "                X.append(x)    # float형으로 변환한 숫자 입력을 리스트에 추가합니다.\n",
    "            except ValueError:\n",
    "                print('>>> NOT a number! Ignored..')\n",
    "            number = input(\"Enter a number (<Enter key> to quit)\")\n",
    "        if len(X) > 1:  # 저장된 숫자가 2개 이상일 때만 리턴합니다.\n",
    "            return X\n",
    "\n",
    "X=numbers()\n",
    "\n",
    "print('X :', X)"
   ]
  },
  {
   "cell_type": "code",
   "execution_count": 2,
   "metadata": {},
   "outputs": [
    {
     "name": "stdout",
     "output_type": "stream",
     "text": [
      "<class 'list'>\n",
      "[1, 2, 3, '4']\n",
      "[1, 5, 2, 3, '4']\n",
      "<class 'array.array'>\n",
      "array('i', [1, 2, 3])\n",
      "array('i', [1, 5, 2, 3])\n"
     ]
    }
   ],
   "source": [
    "import array as arr\n",
    "\n",
    "mylist = [1, 2, 3]   # 이것은 파이썬 built-in list입니다. \n",
    "print(type(mylist))\n",
    "\n",
    "mylist.append('4')  # mylist의 끝에 character '4'를 추가합니다. \n",
    "print(mylist)\n",
    "\n",
    "mylist.insert(1, 5)  # mylist의 두번째 자리에 5를 끼워넣습니다.\n",
    "print(mylist)\n",
    "\n",
    "myarray = arr.array('i', [1, 2, 3])   # 이것은 array입니다. import array를 해야 쓸 수 있습니다.\n",
    "print(type(myarray))\n",
    "\n",
    "# 아래 라인의 주석을 풀고 실행하면 에러가 납니다.\n",
    "#myarray.append('4')    # myarray의 끝에 character '4'를 추가합니다. \n",
    "print(myarray)\n",
    "\n",
    "myarray.insert(1, 5)    # myarray의 두번째 자리에 5를 끼워넣습니다.\n",
    "print(myarray)"
   ]
  },
  {
   "cell_type": "code",
   "execution_count": 3,
   "metadata": {},
   "outputs": [
    {
     "name": "stdout",
     "output_type": "stream",
     "text": [
      "sum of X:  15.0\n"
     ]
    }
   ],
   "source": [
    "total = 0.0\n",
    "for i in range(len(X)):\n",
    "    total = total + X[i]\n",
    "mean = total / len(X)\n",
    "\n",
    "print('sum of X: ', total)"
   ]
  },
  {
   "cell_type": "code",
   "execution_count": 4,
   "metadata": {},
   "outputs": [
    {
     "name": "stdout",
     "output_type": "stream",
     "text": [
      "X : [1.0, 2.0, 3.0, 4.0, 5.0]\n"
     ]
    },
    {
     "data": {
      "text/plain": [
       "3.0"
      ]
     },
     "execution_count": 4,
     "metadata": {},
     "output_type": "execute_result"
    }
   ],
   "source": [
    "def median(nums):  \t\t# nums : 리스트를 지정하는 매개변수\n",
    "    nums.sort()\t\t\t\t\t# sort()로 리스트를 순서대로 정렬\n",
    "    size = len(nums)\n",
    "    p = size // 2\n",
    "    if size % 2 == 0:\t\t   \n",
    "        pr = p   \n",
    "        pl = p-1\n",
    "        mid= float((nums[pl]+nums[pr])/2)    \n",
    "    else:\t\t\t\t\t\t\t\t# 리스트의 개수가 짝수일때\n",
    "        mid = nums[p]\n",
    "    return mid\n",
    "\n",
    "print('X :', X)\n",
    "median(X)\t\t\t\t\t\t# 매개변수의 값으로 X를 사용함"
   ]
  },
  {
   "cell_type": "code",
   "execution_count": 9,
   "metadata": {},
   "outputs": [
    {
     "data": {
      "text/plain": [
       "3.0"
      ]
     },
     "execution_count": 9,
     "metadata": {},
     "output_type": "execute_result"
    }
   ],
   "source": [
    "def means(nums):\n",
    "    total = 0.0\n",
    "    for i in range(len(nums)):\n",
    "        total = total + nums[i]\n",
    "    return total / len(nums)\n",
    "\n",
    "means(X)"
   ]
  },
  {
   "cell_type": "markdown",
   "metadata": {},
   "source": [
    "표준편차"
   ]
  },
  {
   "cell_type": "code",
   "execution_count": null,
   "metadata": {},
   "outputs": [],
   "source": [
    "avg = means(X)\n",
    "\n",
    "def std_dev(nums, avg):\n",
    "   texp = 0.0\n",
    "   for i in range(len(nums)):\n",
    "       texp = texp + (nums[i] - avg)**2    # 각 숫자와 평균값의 차이의 제곱을 계속 더한 후\n",
    "   return (texp/(len(nums)-1)) ** 0.5    # 그 총합을 숫자개수-1로 나눈 값의 제곱근을 리턴합니다.\n",
    "\n",
    "std_dev(X,avg)"
   ]
  },
  {
   "cell_type": "code",
   "execution_count": 10,
   "metadata": {},
   "outputs": [
    {
     "name": "stdout",
     "output_type": "stream",
     "text": [
      "Enter a number (<Enter key> to quit)1 2 3 4 5 324 342\n",
      ">>> NOT a number! Ignored..\n",
      "Enter a number (<Enter key> to quit)1\n",
      "Enter a number (<Enter key> to quit)234\n",
      "Enter a number (<Enter key> to quit)3435\n",
      "Enter a number (<Enter key> to quit)443\n",
      "Enter a number (<Enter key> to quit)12341324\n",
      "Enter a number (<Enter key> to quit)\n",
      "당신이 입력한 숫자[1.0, 234.0, 443.0, 3435.0, 12341324.0]의 \n",
      "중앙값은443.0, 평균은2469087.4, 표준편차는5518748.20903738입니다.\n"
     ]
    }
   ],
   "source": [
    "def numbers():\n",
    "    X=[]\n",
    "    while True:\n",
    "        number = input(\"Enter a number (<Enter key> to quit)\") \n",
    "        while number !=\"\":\n",
    "            try:\n",
    "                x = float(number)\n",
    "                X.append(x)\n",
    "            except ValueError:\n",
    "                print('>>> NOT a number! Ignored..')\n",
    "            number = input(\"Enter a number (<Enter key> to quit)\")\n",
    "        if len(X) > 1:\n",
    "            return X\n",
    "\n",
    "def median(nums): \n",
    "    nums.sort()\n",
    "    size = len(nums)\n",
    "    p = size // 2\n",
    "    if size % 2 == 0:\n",
    "        pr = p\n",
    "        pl = p-1\n",
    "        mid = float((nums[pl]+nums[pr])/2)\n",
    "    else:\n",
    "        mid = nums[p]\n",
    "    return mid\n",
    "\n",
    "def means(nums):\n",
    "    total = 0.0\n",
    "    for i in range(len(nums)):\n",
    "        total = total + nums[i]\n",
    "    return total / len(nums)\n",
    "\n",
    "def std_dev(nums, avg):\n",
    "   texp = 0.0\n",
    "   for i in range(len(nums)):\n",
    "       texp = texp + (nums[i] - avg) ** 2\n",
    "   return (texp/(len(nums)-1)) ** 0.5\n",
    "\n",
    "def main():\n",
    "    X = numbers()\n",
    "    med = median(X)\n",
    "    avg = means(X)\n",
    "    std = std_dev(X, avg)\n",
    "    print(\"당신이 입력한 숫자{}의 \".format(X))\n",
    "    print(\"중앙값은{}, 평균은{}, 표준편차는{}입니다.\".format(med, avg, std))\n",
    "\n",
    "if __name__ == '__main__':\n",
    "    main()"
   ]
  },
  {
   "cell_type": "code",
   "execution_count": null,
   "metadata": {},
   "outputs": [],
   "source": [
    "import numpy as np\n",
    "\n",
    "# 아래 A와 B는 결과적으로 같은 ndarray 객체를 생성합니다. \n",
    "A = np.arange(5)\n",
    "B = np.array([0,1,2,3,4])  # 파이썬 리스트를 numpy ndarray로 변환\n",
    "\n",
    "# 하지만 C는 좀 다를 것입니다. \n",
    "C = np.array([0,1,2,3,'4'])\n",
    "\n",
    "# D도 A, B와 같은 결과를 내겠지만, B의 방법을 권합니다. \n",
    "D = np.ndarray((5,), np.int64, np.array([0,1,2,3,4]))\n",
    "\n",
    "print(A)\n",
    "print(type(A))\n",
    "print(B)\n",
    "print(type(B))\n",
    "print(C)\n",
    "print(type(C))\n",
    "print(D)\n",
    "print(type(D))"
   ]
  },
  {
   "cell_type": "code",
   "execution_count": 13,
   "metadata": {},
   "outputs": [
    {
     "name": "stdout",
     "output_type": "stream",
     "text": [
      "(2, 5)\n",
      "2\n",
      "10\n"
     ]
    }
   ],
   "source": [
    "import numpy as np\n",
    "\n",
    "A = np.arange(10).reshape(2,5)   # 길이 10의 1차원 행렬을 2X5 2차원 행렬로 바꿔봅니다.\n",
    "\n",
    "print(A.shape)\n",
    "print(A.ndim)\n",
    "print(A.size)"
   ]
  },
  {
   "cell_type": "code",
   "execution_count": 16,
   "metadata": {},
   "outputs": [
    {
     "name": "stdout",
     "output_type": "stream",
     "text": [
      "[1, 2, 3, 4]\n"
     ]
    },
    {
     "ename": "TypeError",
     "evalue": "can only concatenate list (not \"int\") to list",
     "output_type": "error",
     "traceback": [
      "\u001b[0;31m---------------------------------------------------------------------------\u001b[0m",
      "\u001b[0;31mTypeError\u001b[0m                                 Traceback (most recent call last)",
      "\u001b[0;32m<ipython-input-16-1e8b322884f3>\u001b[0m in \u001b[0;36m<module>\u001b[0;34m\u001b[0m\n\u001b[1;32m      1\u001b[0m \u001b[0mprint\u001b[0m\u001b[0;34m(\u001b[0m\u001b[0;34m[\u001b[0m\u001b[0;36m1\u001b[0m\u001b[0;34m,\u001b[0m\u001b[0;36m2\u001b[0m\u001b[0;34m]\u001b[0m\u001b[0;34m+\u001b[0m\u001b[0;34m[\u001b[0m\u001b[0;36m3\u001b[0m\u001b[0;34m,\u001b[0m\u001b[0;36m4\u001b[0m\u001b[0;34m]\u001b[0m\u001b[0;34m)\u001b[0m\u001b[0;34m\u001b[0m\u001b[0;34m\u001b[0m\u001b[0m\n\u001b[0;32m----> 2\u001b[0;31m \u001b[0mprint\u001b[0m\u001b[0;34m(\u001b[0m\u001b[0;34m[\u001b[0m\u001b[0;36m1\u001b[0m\u001b[0;34m,\u001b[0m\u001b[0;36m2\u001b[0m\u001b[0;34m]\u001b[0m\u001b[0;34m+\u001b[0m\u001b[0;36m3\u001b[0m\u001b[0;34m)\u001b[0m\u001b[0;34m\u001b[0m\u001b[0;34m\u001b[0m\u001b[0m\n\u001b[0m",
      "\u001b[0;31mTypeError\u001b[0m: can only concatenate list (not \"int\") to list"
     ]
    }
   ],
   "source": [
    "print([1,2]+[3,4])\n",
    "print([1,2]+3)"
   ]
  },
  {
   "cell_type": "code",
   "execution_count": 17,
   "metadata": {},
   "outputs": [
    {
     "name": "stdout",
     "output_type": "stream",
     "text": [
      "0.01957623643945683\n",
      "3\n",
      "5\n"
     ]
    }
   ],
   "source": [
    "# 의사 난수를 생성하는 예제입니다. 여러번 실행해 보세요.\n",
    "\n",
    "print(np.random.random())   # 0에서 1사이의 실수형 난수 하나를 생성합니다. \n",
    "\n",
    "print(np.random.randint(0,10))   # 0~9 사이 1개 정수형 난수 하나를 생성합니다. \n",
    "\n",
    "print(np.random.choice([0,1,2,3,4,5,6,7,8,9]))   # 리스트에 주어진 값 중 하나를 랜덤하게 골라줍니다."
   ]
  },
  {
   "cell_type": "code",
   "execution_count": 18,
   "metadata": {},
   "outputs": [
    {
     "name": "stdout",
     "output_type": "stream",
     "text": [
      "[5 0 6 2 3 7 1 9 4 8]\n",
      "[9 7 0 4 8 1 3 2 6 5]\n"
     ]
    }
   ],
   "source": [
    "# 아래 2가지는 기능면에서 동일합니다. 원소의 순서를 임의로 뒤바꾸어 줍니다. \n",
    "\n",
    "print(np.random.permutation(10))   \n",
    "print(np.random.permutation([0,1,2,3,4,5,6,7,8,9]))"
   ]
  },
  {
   "cell_type": "code",
   "execution_count": 19,
   "metadata": {},
   "outputs": [
    {
     "name": "stdout",
     "output_type": "stream",
     "text": [
      "[ 0.83576407 -1.18544006  1.15906939 -0.54165743 -0.53982678]\n",
      "[-0.60530733  0.83281253  0.06162149 -0.65848411  0.32013229]\n"
     ]
    }
   ],
   "source": [
    "# 아래 기능들은 어떤 분포를 따르는 변수를 임의로 표본추출해 줍니다. \n",
    "\n",
    "# 이것은 정규분포를 따릅니다.\n",
    "print(np.random.normal(loc=0, scale=1, size=5))    # 평균(loc), 표준편차(scale), 추출개수(size)를 조절해 보세요.\n",
    "\n",
    "# 이것은 균등분포를 따릅니다. \n",
    "print(np.random.uniform(low=-1, high=1, size=5))  # 최소(low), 최대(high), 추출개수(size)를 조절해 보세요."
   ]
  },
  {
   "cell_type": "code",
   "execution_count": 20,
   "metadata": {},
   "outputs": [
    {
     "name": "stdout",
     "output_type": "stream",
     "text": [
      "[[[ 0  1  2  3]\n",
      "  [ 4  5  6  7]\n",
      "  [ 8  9 10 11]]\n",
      "\n",
      " [[12 13 14 15]\n",
      "  [16 17 18 19]\n",
      "  [20 21 22 23]]]\n",
      "[[[ 0 12]\n",
      "  [ 4 16]\n",
      "  [ 8 20]]\n",
      "\n",
      " [[ 1 13]\n",
      "  [ 5 17]\n",
      "  [ 9 21]]\n",
      "\n",
      " [[ 2 14]\n",
      "  [ 6 18]\n",
      "  [10 22]]\n",
      "\n",
      " [[ 3 15]\n",
      "  [ 7 19]\n",
      "  [11 23]]]\n",
      "(4, 3, 2)\n"
     ]
    }
   ],
   "source": [
    "A = np.arange(24).reshape(2,3,4)\n",
    "print(A)               # A는 (2,3,4)의 shape를 가진 행렬입니다. \n",
    "print(A.T)            # 이것은 A의 전치행렬입니다. \n",
    "print(A.T.shape) # A의 전치행렬은 (4,3,2)의 shape를 가진 행렬입니다"
   ]
  },
  {
   "cell_type": "code",
   "execution_count": 22,
   "metadata": {
    "scrolled": true
   },
   "outputs": [
    {
     "name": "stdout",
     "output_type": "stream",
     "text": [
      "[[[ 0  1  2  3]\n",
      "  [ 4  5  6  7]\n",
      "  [ 8  9 10 11]]\n",
      "\n",
      " [[12 13 14 15]\n",
      "  [16 17 18 19]\n",
      "  [20 21 22 23]]]\n",
      "--------------------\n",
      "[[[ 0  4  8]\n",
      "  [12 16 20]]\n",
      "\n",
      " [[ 1  5  9]\n",
      "  [13 17 21]]\n",
      "\n",
      " [[ 2  6 10]\n",
      "  [14 18 22]]\n",
      "\n",
      " [[ 3  7 11]\n",
      "  [15 19 23]]]\n",
      "(4, 2, 3)\n"
     ]
    }
   ],
   "source": [
    "# np.transpose는 행렬의 축을 어떻게 변환해 줄지 임의로 지정해 줄 수 있는 일반적인 행렬 전치 함수입니다. \n",
    "# np.transpose(A, (2,1,0)) 은 A.T와 정확히 같습니다.\n",
    "\n",
    "B = np.transpose(A, (2,0,1))\n",
    "print(A)             # A는 (2,3,4)의 shape를 가진 행렬입니다. \n",
    "print('--------------------')\n",
    "print(B)             # B는 A의 3, 1, 2번째 축을 자신의 1, 2, 3번째 축으로 가진 행렬입니다.\n",
    "print(B.shape)  # B는 (4,2,3)의 shape를 가진 행렬입니다."
   ]
  },
  {
   "cell_type": "code",
   "execution_count": 23,
   "metadata": {},
   "outputs": [
    {
     "name": "stdout",
     "output_type": "stream",
     "text": [
      "Enter a number (<Enter key> to quit)1\n",
      "Enter a number (<Enter key> to quit)2\n",
      "Enter a number (<Enter key> to quit)3\n",
      "Enter a number (<Enter key> to quit)4\n",
      "Enter a number (<Enter key> to quit)5\n",
      "Enter a number (<Enter key> to quit)6\n",
      "Enter a number (<Enter key> to quit)\n",
      "합 21.0\n",
      "평균값 3.5\n",
      "표준편차 1.707825127659933\n",
      "중앙값 3.5\n"
     ]
    }
   ],
   "source": [
    "import numpy as np\n",
    "\n",
    "# 6-3 스텝에서 사용하였던 함수입니다. \n",
    "def numbers():\n",
    "    X = []\n",
    "    number = input(\"Enter a number (<Enter key> to quit)\") \n",
    "    # 하지만 2개 이상의 숫자를 받아야 한다는 제약조건을 제외하였습니다.\n",
    "    while number != \"\":\n",
    "        try:\n",
    "            x = float(number)\n",
    "            X.append(x)\n",
    "        except ValueError:\n",
    "            print('>>> NOT a number! Ignored..')\n",
    "        number = input(\"Enter a number (<Enter key> to quit)\")\n",
    "    return X\n",
    "\n",
    "def main():\n",
    "    nums = numbers()       # 이것은 파이썬 리스트입니다. \n",
    "    num = np.array(nums)   # 리스트를 Numpy ndarray로 변환합니다.\n",
    "    print(\"합\", num.sum())\n",
    "    print(\"평균값\",num.mean())\n",
    "    print(\"표준편차\",num.std())\n",
    "    print(\"중앙값\",np.median(num))   # num.median() 이 아님에 유의해 주세요.\n",
    "\n",
    "main()"
   ]
  },
  {
   "cell_type": "code",
   "execution_count": null,
   "metadata": {},
   "outputs": [],
   "source": [
    "$ pip install matplotlib\n",
    "$ pip install Pillow"
   ]
  },
  {
   "cell_type": "code",
   "execution_count": null,
   "metadata": {},
   "outputs": [],
   "source": [
    "$ mkdir -p ~/aiffel/data_represent/image\n",
    "$ wget https://aiffelstaticprd.blob.core.windows.net/media/documents/newyork.jpg\n",
    "$ mv newyork.jpg ~/aiffel/data_represent/image"
   ]
  },
  {
   "cell_type": "code",
   "execution_count": null,
   "metadata": {},
   "outputs": [],
   "source": [
    "from PIL import Image, ImageColor\n",
    "import os\n",
    "img_path = os.getenv(\"HOME\") + \"/aiffel/data_represent/image/newyork.jpg\"\n",
    "img = Image.open(img_path)\n",
    "print(img_path)\n",
    "print(type(img))\n",
    "img"
   ]
  },
  {
   "cell_type": "code",
   "execution_count": 24,
   "metadata": {},
   "outputs": [
    {
     "name": "stdout",
     "output_type": "stream",
     "text": [
      "Congraturation!! you got a treasure box\n",
      "you have rope 2pcs\n",
      "you have apple 10pcs\n",
      "you have torch 6pcs\n",
      "you have gold coin 50pcs\n",
      "you have knife 1pcs\n",
      "you have arrow 30pcs\n"
     ]
    }
   ],
   "source": [
    "treasure_box = {'rope':2, \n",
    "                'apple':10, \n",
    "                'torch': 6, \n",
    "                'gold coin': 50, \n",
    "                'knife': 1, \n",
    "                'arrow': 30}\n",
    "\n",
    "def display_stuff(treasure_box):\n",
    "    print(\"Congraturation!! you got a treasure box\")\n",
    "    for k, v in treasure_box.items():\n",
    "        print(\"you have {} {}pcs\".format(k, v))\n",
    "display_stuff(treasure_box)"
   ]
  },
  {
   "cell_type": "code",
   "execution_count": 25,
   "metadata": {},
   "outputs": [
    {
     "name": "stdout",
     "output_type": "stream",
     "text": [
      "rope : 1coins/pcs * 2pcs = 2 coins\n",
      "apple : 2coins/pcs * 10pcs = 20 coins\n",
      "torch : 2coins/pcs * 6pcs = 12 coins\n",
      "gold coin : 5coins/pcs * 50pcs = 250 coins\n",
      "knife : 30coins/pcs * 1pcs = 30 coins\n",
      "arrow : 1coins/pcs * 30pcs = 30 coins\n",
      "total_coin :  344\n"
     ]
    }
   ],
   "source": [
    "coin_per_treasure = {'rope':1,\n",
    "        'apple':2,\n",
    "        'torch': 2,\n",
    "        'gold coin': 5, \n",
    "        'knife': 30,\n",
    "        'arrow': 1}\n",
    "\n",
    "def total_silver(treasure_box, coin_per_treasure):\n",
    "    total_coin = 0\n",
    "    for treasure in treasure_box:\n",
    "        coin = coin_per_treasure[treasure] * treasure_box[treasure]\n",
    "        print(\"{} : {}coins/pcs * {}pcs = {} coins\".format(\n",
    "          treasure, coin_per_treasure[treasure], treasure_box[treasure], coin))\n",
    "        total_coin += coin\n",
    "    print('total_coin : ', total_coin)\n",
    "total_silver(treasure_box, coin_per_treasure)"
   ]
  },
  {
   "cell_type": "code",
   "execution_count": null,
   "metadata": {},
   "outputs": [],
   "source": [
    "def iterate_multidimensional(my_dict):\n",
    "    for k,v in my_dict.items():\n",
    "        if(isinstance(v,dict)):\n",
    "            print(k+\":\")\n",
    "            iterate_multidimensional(v)\n",
    "            continue\n",
    "        print(k+\" : \"+str(v))\n"
   ]
  },
  {
   "cell_type": "code",
   "execution_count": 30,
   "metadata": {},
   "outputs": [
    {
     "name": "stdout",
     "output_type": "stream",
     "text": [
      "Congraturation!! you got a treasure box\n",
      "you have rope 2pcs\n",
      "you have apple 10pcs\n",
      "you have torch 6pcs\n",
      "you have gold coin 50pcs\n",
      "you have knife 30pcs\n"
     ]
    }
   ],
   "source": [
    "treasure_box = {'rope': {'coin': 1, 'pcs': 2},\n",
    "                'apple': {'coin': 2, 'pcs': 10},\n",
    "                'torch': {'coin': 2, 'pcs': 6},\n",
    "                'gold coin': {'coin': 5, 'pcs': 50},\n",
    "                'knife': {'coin': 1, 'pcs': 30}}\n",
    "\n",
    "result = []\n",
    "\n",
    "\n",
    "def display_stuff(treasure_box):\n",
    "    print(\"Congraturation!! you got a treasure box\")\n",
    "    for k, v in treasure_box.items():\n",
    "        print(\"you have {} {}pcs\".format(k, v['pcs']))\n",
    "        \n",
    "display_stuff(treasure_box)"
   ]
  },
  {
   "cell_type": "code",
   "execution_count": null,
   "metadata": {},
   "outputs": [],
   "source": [
    "treasure_box = {'rope': {'coin': 1, 'pcs': 2},\n",
    "                'apple': {'coin': 2, 'pcs': 10},\n",
    "                'torch': {'coin': 2, 'pcs': 6},\n",
    "                'gold coin': {'coin': 5, 'pcs': 50},\n",
    "                'knife': {'coin': 1, 'pcs': 30}}\n",
    "\n",
    "result = []\n",
    "\n",
    "\n",
    "def display_stuff(treasure_box):\n",
    "    print(\"Congraturation!! you got a treasure box\")\n",
    "    for k, v in treasure_box.items():\n",
    "        print(\"you have {} {}pcs\".format(k, v['pcs']))\n",
    "        \n",
    "display_stuff(treasure_box)"
   ]
  },
  {
   "cell_type": "code",
   "execution_count": 31,
   "metadata": {},
   "outputs": [
    {
     "name": "stdout",
     "output_type": "stream",
     "text": [
      "rope : 1coins/pcs * 2pcs = 2 coins\n",
      "apple : 2coins/pcs * 10pcs = 20 coins\n",
      "torch : 2coins/pcs * 6pcs = 12 coins\n",
      "gold coin : 5coins/pcs * 50pcs = 250 coins\n",
      "knife : 1coins/pcs * 30pcs = 30 coins\n",
      "total_coin :  314\n"
     ]
    }
   ],
   "source": [
    "def total_silver(treasure_box):\n",
    "    total_coin = 0\n",
    "    for k, v in treasure_box.items():\n",
    "        coin = v['coin'] * v['pcs']\n",
    "        print(\"{} : {}coins/pcs * {}pcs = {} coins\".format(\n",
    "          k, v['coin'], v['pcs'], coin))\n",
    "        total_coin += coin\n",
    "    print('total_coin : ', total_coin)\n",
    "\n",
    "    \n",
    "total_silver(treasure_box)"
   ]
  },
  {
   "cell_type": "code",
   "execution_count": null,
   "metadata": {},
   "outputs": [],
   "source": [
    "$ mkdir -p ~/aiffel/data_represent/data\n",
    "$ wget https://aiffelstaticprd.blob.core.windows.net/media/documents/covid19_italy_region.csv\n",
    "$ mv covid19_italy_region.csv ~/aiffel/data_represent/data"
   ]
  },
  {
   "cell_type": "code",
   "execution_count": null,
   "metadata": {},
   "outputs": [],
   "source": [
    "import pandas as pd\n",
    "import os\n",
    "\n",
    "csv_path = os.getenv(\"HOME\") + \"/aiffel/data_represent/data/covid19_italy_region.csv\"\n",
    "data = pd.read_csv(csv_path)\n",
    "type(data)"
   ]
  },
  {
   "cell_type": "code",
   "execution_count": null,
   "metadata": {},
   "outputs": [],
   "source": [
    "data"
   ]
  },
  {
   "cell_type": "code",
   "execution_count": null,
   "metadata": {},
   "outputs": [],
   "source": [
    "data.head()"
   ]
  },
  {
   "cell_type": "code",
   "execution_count": null,
   "metadata": {},
   "outputs": [],
   "source": [
    "data.tail()"
   ]
  },
  {
   "cell_type": "code",
   "execution_count": null,
   "metadata": {},
   "outputs": [],
   "source": [
    "data.columns"
   ]
  },
  {
   "cell_type": "code",
   "execution_count": null,
   "metadata": {},
   "outputs": [],
   "source": [
    "data.info()"
   ]
  },
  {
   "cell_type": "code",
   "execution_count": null,
   "metadata": {},
   "outputs": [],
   "source": [
    "data.describe()"
   ]
  },
  {
   "cell_type": "code",
   "execution_count": null,
   "metadata": {},
   "outputs": [],
   "source": [
    "data.isnull().sum()"
   ]
  },
  {
   "cell_type": "code",
   "execution_count": null,
   "metadata": {},
   "outputs": [],
   "source": [
    "data['RegionName'].value_counts()"
   ]
  },
  {
   "cell_type": "code",
   "execution_count": null,
   "metadata": {},
   "outputs": [],
   "source": [
    "data['Country'].value_counts()"
   ]
  },
  {
   "cell_type": "code",
   "execution_count": null,
   "metadata": {},
   "outputs": [],
   "source": [
    "data['RegionName'].value_counts().sum()"
   ]
  },
  {
   "cell_type": "code",
   "execution_count": null,
   "metadata": {},
   "outputs": [],
   "source": [
    "data['Country'].value_counts().sum()"
   ]
  },
  {
   "cell_type": "code",
   "execution_count": null,
   "metadata": {},
   "outputs": [],
   "source": [
    "print(data['TotalPositiveCases'].sum())\n",
    "print(data['TestsPerformed'].sum())\n",
    "print(data['Deaths'].sum())\n",
    "print(data['Recovered'].sum())"
   ]
  },
  {
   "cell_type": "code",
   "execution_count": null,
   "metadata": {},
   "outputs": [],
   "source": [
    "data.sum()"
   ]
  },
  {
   "cell_type": "code",
   "execution_count": null,
   "metadata": {},
   "outputs": [],
   "source": [
    "print(data['TestsPerformed'].corr(data['TotalPositiveCases']))\n",
    "print(data['TestsPerformed'].corr(data['Deaths']))\n",
    "print(data['TotalPositiveCases'].corr(data['Deaths']))\n",
    "\n",
    "data.corr()"
   ]
  },
  {
   "cell_type": "code",
   "execution_count": null,
   "metadata": {},
   "outputs": [],
   "source": [
    "data.drop(['Latitude','Longitude','Country','Date','HospitalizedPatients',  'IntensiveCarePatients', 'TotalHospitalizedPatients','HomeConfinement','RegionCode','SNo'], axis=1, inplace=True)\n",
    "\n",
    "data.corr()"
   ]
  },
  {
   "cell_type": "code",
   "execution_count": null,
   "metadata": {},
   "outputs": [],
   "source": []
  },
  {
   "cell_type": "code",
   "execution_count": null,
   "metadata": {},
   "outputs": [],
   "source": [
    "class FunnyDice:\n",
    "    def __init__(self, n):\n",
    "            self.n = n\n",
    "    \n",
    "    def throw(self):\n",
    "        pass\n",
    "    \n",
    "    def getval(self):\n",
    "        pass\n",
    "\n",
    "    def setval(self, val):\n",
    "        pass"
   ]
  },
  {
   "cell_type": "code",
   "execution_count": null,
   "metadata": {},
   "outputs": [],
   "source": [
    "from random import randrange\n",
    "\n",
    "class FunnyDice:\n",
    "    def __init__(self, n=6):\n",
    "        self.n = int(n)\n",
    "        self.numbers = list(range(1, n+1))\n",
    "        self.index = randrange(0, self.n)\n",
    "        self.val = self.numbers[self.index]"
   ]
  },
  {
   "cell_type": "code",
   "execution_count": null,
   "metadata": {},
   "outputs": [],
   "source": [
    "from random import randrange\n",
    "\n",
    "class FunnyDice:\n",
    "    def __init__(self, n=6):\n",
    "        self.n = int(n)\n",
    "        self.numbers = list(range(1, n+1))\n",
    "        self.index = randrange(0, self.n)\n",
    "        self.val = self.numbers[self.index]"
   ]
  },
  {
   "cell_type": "code",
   "execution_count": null,
   "metadata": {},
   "outputs": [],
   "source": [
    "from random import randrange\n",
    "\n",
    "class FunnyDice:    \n",
    "    def setval(self, val:int):\n",
    "        if val <= self.n:\n",
    "            self.val = val\n",
    "        else:\n",
    "            print(\"주사위에 없는 숫자입니다. 주사위는 1 ~ {0}까지 있습니다. \".format(self.n))\n",
    "            raise error"
   ]
  },
  {
   "cell_type": "code",
   "execution_count": null,
   "metadata": {},
   "outputs": [],
   "source": [
    "class FunnyDice:\n",
    "    def __init__(self, n=6):\n",
    "        self.n = int(n)\n",
    "        self.numbers = list(range(1, n+1))\n",
    "        self.index = randrange(0, self.n)\n",
    "        self.val = self.numbers[self.index]\n",
    "\n",
    "    def throw(self):\n",
    "        self.index = randrange(0, self.n)\n",
    "        self.val = self.numbers[self.index]\n",
    "\n",
    "    def getval(self):\n",
    "        return self.val\n",
    "\n",
    "    def setval(self, val):\n",
    "        if val <= self.n:\n",
    "            self.val = val\n",
    "        else:\n",
    "            print(\"주사위에 없는 숫자입니다. 주사위는 1 ~ {0}까지 있습니다. \".format(self.n))\n",
    "            raise error"
   ]
  },
  {
   "cell_type": "code",
   "execution_count": null,
   "metadata": {},
   "outputs": [],
   "source": [
    "mycar = Car()\n",
    "mycar2 = Car()\n",
    "print(id(mycar))\n",
    "print(id(mycar2))"
   ]
  },
  {
   "cell_type": "code",
   "execution_count": null,
   "metadata": {},
   "outputs": [],
   "source": []
  },
  {
   "cell_type": "code",
   "execution_count": null,
   "metadata": {},
   "outputs": [],
   "source": []
  },
  {
   "cell_type": "code",
   "execution_count": null,
   "metadata": {},
   "outputs": [],
   "source": []
  },
  {
   "cell_type": "code",
   "execution_count": null,
   "metadata": {},
   "outputs": [],
   "source": []
  },
  {
   "cell_type": "code",
   "execution_count": null,
   "metadata": {},
   "outputs": [],
   "source": []
  },
  {
   "cell_type": "code",
   "execution_count": null,
   "metadata": {},
   "outputs": [],
   "source": []
  },
  {
   "cell_type": "code",
   "execution_count": null,
   "metadata": {},
   "outputs": [],
   "source": []
  },
  {
   "cell_type": "code",
   "execution_count": null,
   "metadata": {},
   "outputs": [],
   "source": []
  },
  {
   "cell_type": "code",
   "execution_count": null,
   "metadata": {},
   "outputs": [],
   "source": []
  },
  {
   "cell_type": "code",
   "execution_count": null,
   "metadata": {},
   "outputs": [],
   "source": []
  },
  {
   "cell_type": "code",
   "execution_count": null,
   "metadata": {},
   "outputs": [],
   "source": []
  }
 ],
 "metadata": {
  "kernelspec": {
   "display_name": "Python 3",
   "language": "python",
   "name": "python3"
  },
  "language_info": {
   "codemirror_mode": {
    "name": "ipython",
    "version": 3
   },
   "file_extension": ".py",
   "mimetype": "text/x-python",
   "name": "python",
   "nbconvert_exporter": "python",
   "pygments_lexer": "ipython3",
   "version": "3.7.6"
  }
 },
 "nbformat": 4,
 "nbformat_minor": 4
}
